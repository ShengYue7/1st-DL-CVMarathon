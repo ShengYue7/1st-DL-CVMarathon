{
 "cells": [
  {
   "cell_type": "markdown",
   "metadata": {},
   "source": [
    "## 『本次練習內容』\n",
    "#### 運用這幾天所學觀念搭建一個CNN分類器"
   ]
  },
  {
   "cell_type": "markdown",
   "metadata": {},
   "source": [
    "## 『本次練習目的』\n",
    "  #### 熟悉CNN分類器搭建步驟與原理\n",
    "  #### 學員們可以嘗試不同搭法，如使用不同的Maxpooling層，用GlobalAveragePooling取代Flatten等等"
   ]
  },
  {
   "cell_type": "code",
   "execution_count": 1,
   "metadata": {},
   "outputs": [
    {
     "name": "stderr",
     "output_type": "stream",
     "text": [
      "Using TensorFlow backend.\n"
     ]
    }
   ],
   "source": [
    "from keras.models import Sequential\n",
    "from keras.layers import Convolution2D\n",
    "from keras.layers import MaxPooling2D\n",
    "from keras.layers import Flatten\n",
    "from keras.layers import Dense\n",
    "from keras.layers import Dropout\n",
    "from keras.layers import BatchNormalization\n",
    "from keras.datasets import cifar10\n",
    "import numpy as np\n",
    "import tensorflow as tf\n",
    "from sklearn.preprocessing import OneHotEncoder\n"
   ]
  },
  {
   "cell_type": "code",
   "execution_count": 2,
   "metadata": {},
   "outputs": [
    {
     "name": "stdout",
     "output_type": "stream",
     "text": [
      "(50000, 32, 32, 3)\n"
     ]
    }
   ],
   "source": [
    "(x_train, y_train), (x_test, y_test) = cifar10.load_data()\n",
    "\n",
    "print(x_train.shape) #(50000, 32, 32, 3)\n",
    "\n",
    "## Normalize Data\n",
    "def normalize(X_train,X_test):\n",
    "        mean = np.mean(X_train,axis=(0,1,2,3))\n",
    "        std = np.std(X_train, axis=(0, 1, 2, 3))\n",
    "        X_train = (X_train-mean)/(std+1e-7)\n",
    "        X_test = (X_test-mean)/(std+1e-7) \n",
    "        return X_train, X_test,mean,std\n",
    "    \n",
    "    \n",
    "## Normalize Training and Testset    \n",
    "x_train, x_test,mean_train,std_train = normalize(x_train, x_test) "
   ]
  },
  {
   "cell_type": "code",
   "execution_count": 3,
   "metadata": {},
   "outputs": [
    {
     "name": "stderr",
     "output_type": "stream",
     "text": [
      "C:\\Users\\a2688\\Anaconda3\\lib\\site-packages\\sklearn\\preprocessing\\_encoders.py:415: FutureWarning: The handling of integer data will change in version 0.22. Currently, the categories are determined based on the range [0, max(values)], while in the future they will be determined based on the unique values.\n",
      "If you want the future behaviour and silence this warning, you can specify \"categories='auto'\".\n",
      "In case you used a LabelEncoder before this OneHotEncoder to convert the categories to integers, then you can now use the OneHotEncoder directly.\n",
      "  warnings.warn(msg, FutureWarning)\n"
     ]
    }
   ],
   "source": [
    "## OneHot Label 由(None, 1)-(None, 10)\n",
    "## ex. label=2,變成[0,0,1,0,0,0,0,0,0,0]\n",
    "one_hot=OneHotEncoder()\n",
    "y_train=one_hot.fit_transform(y_train).toarray()\n",
    "y_test=one_hot.transform(y_test).toarray()"
   ]
  },
  {
   "cell_type": "code",
   "execution_count": null,
   "metadata": {},
   "outputs": [
    {
     "name": "stdout",
     "output_type": "stream",
     "text": [
      "WARNING:tensorflow:From C:\\Users\\a2688\\Anaconda3\\lib\\site-packages\\tensorflow\\python\\framework\\op_def_library.py:263: colocate_with (from tensorflow.python.framework.ops) is deprecated and will be removed in a future version.\n",
      "Instructions for updating:\n",
      "Colocations handled automatically by placer.\n"
     ]
    },
    {
     "name": "stderr",
     "output_type": "stream",
     "text": [
      "C:\\Users\\a2688\\Anaconda3\\lib\\site-packages\\ipykernel_launcher.py:20: UserWarning: Update your `Dense` call to the Keras 2 API: `Dense(activation=\"relu\", units=100)`\n",
      "C:\\Users\\a2688\\Anaconda3\\lib\\site-packages\\ipykernel_launcher.py:23: UserWarning: Update your `Dense` call to the Keras 2 API: `Dense(activation=\"softmax\", units=10)`\n"
     ]
    },
    {
     "name": "stdout",
     "output_type": "stream",
     "text": [
      "WARNING:tensorflow:From C:\\Users\\a2688\\Anaconda3\\lib\\site-packages\\tensorflow\\python\\ops\\math_ops.py:3066: to_int32 (from tensorflow.python.ops.math_ops) is deprecated and will be removed in a future version.\n",
      "Instructions for updating:\n",
      "Use tf.cast instead.\n",
      "Epoch 1/100\n",
      "50000/50000 [==============================] - 183s 4ms/step - loss: 1.3473 - acc: 0.5295\n",
      "Epoch 2/100\n",
      "50000/50000 [==============================] - 159s 3ms/step - loss: 0.9324 - acc: 0.6717\n",
      "Epoch 3/100\n",
      "50000/50000 [==============================] - 167s 3ms/step - loss: 0.7639 - acc: 0.7331\n",
      "Epoch 4/100\n",
      "50000/50000 [==============================] - 192s 4ms/step - loss: 0.6245 - acc: 0.7835\n",
      "Epoch 5/100\n",
      "50000/50000 [==============================] - 205s 4ms/step - loss: 0.5077 - acc: 0.8246\n",
      "Epoch 6/100\n",
      "50000/50000 [==============================] - 210s 4ms/step - loss: 0.3925 - acc: 0.8653\n",
      "Epoch 7/100\n",
      "50000/50000 [==============================] - 209s 4ms/step - loss: 0.2892 - acc: 0.9007\n",
      "Epoch 8/100\n",
      "50000/50000 [==============================] - 211s 4ms/step - loss: 0.2221 - acc: 0.9230\n",
      "Epoch 9/100\n",
      "50000/50000 [==============================] - 206s 4ms/step - loss: 0.1667 - acc: 0.9430\n",
      "Epoch 10/100\n",
      "50000/50000 [==============================] - 211s 4ms/step - loss: 0.1391 - acc: 0.9516\n",
      "Epoch 11/100\n",
      "50000/50000 [==============================] - 210s 4ms/step - loss: 0.1130 - acc: 0.9622\n",
      "Epoch 12/100\n",
      "50000/50000 [==============================] - 200s 4ms/step - loss: 0.1056 - acc: 0.9638\n",
      "Epoch 13/100\n",
      "50000/50000 [==============================] - 162s 3ms/step - loss: 0.0986 - acc: 0.9667\n",
      "Epoch 14/100\n",
      "50000/50000 [==============================] - 188s 4ms/step - loss: 0.0902 - acc: 0.9698\n",
      "Epoch 15/100\n",
      "50000/50000 [==============================] - 216s 4ms/step - loss: 0.0705 - acc: 0.9766\n",
      "Epoch 16/100\n",
      "50000/50000 [==============================] - 250s 5ms/step - loss: 0.0720 - acc: 0.9756\n",
      "Epoch 17/100\n",
      "50000/50000 [==============================] - 206s 4ms/step - loss: 0.0725 - acc: 0.9759\n",
      "Epoch 18/100\n",
      "50000/50000 [==============================] - 207s 4ms/step - loss: 0.0757 - acc: 0.9752\n",
      "Epoch 19/100\n",
      "50000/50000 [==============================] - 210s 4ms/step - loss: 0.0663 - acc: 0.9777\n",
      "Epoch 20/100\n",
      "50000/50000 [==============================] - 217s 4ms/step - loss: 0.0533 - acc: 0.9821\n",
      "Epoch 21/100\n",
      "50000/50000 [==============================] - 209s 4ms/step - loss: 0.0429 - acc: 0.9851\n",
      "Epoch 22/100\n",
      "50000/50000 [==============================] - 209s 4ms/step - loss: 0.0425 - acc: 0.9853\n",
      "Epoch 23/100\n",
      "50000/50000 [==============================] - 208s 4ms/step - loss: 0.0584 - acc: 0.9807\n",
      "Epoch 24/100\n",
      "50000/50000 [==============================] - 208s 4ms/step - loss: 0.0662 - acc: 0.9777\n",
      "Epoch 25/100\n",
      "50000/50000 [==============================] - 198s 4ms/step - loss: 0.0431 - acc: 0.9853\n",
      "Epoch 26/100\n",
      "50000/50000 [==============================] - 210s 4ms/step - loss: 0.0435 - acc: 0.9858\n",
      "Epoch 27/100\n",
      "50000/50000 [==============================] - 210s 4ms/step - loss: 0.0415 - acc: 0.9862\n",
      "Epoch 28/100\n",
      "50000/50000 [==============================] - 217s 4ms/step - loss: 0.0419 - acc: 0.9855\n",
      "Epoch 29/100\n",
      "50000/50000 [==============================] - 213s 4ms/step - loss: 0.0419 - acc: 0.9867\n",
      "Epoch 30/100\n",
      "50000/50000 [==============================] - 215s 4ms/step - loss: 0.0374 - acc: 0.9878\n",
      "Epoch 31/100\n",
      "50000/50000 [==============================] - 213s 4ms/step - loss: 0.0394 - acc: 0.9864\n",
      "Epoch 32/100\n",
      "50000/50000 [==============================] - 210s 4ms/step - loss: 0.0418 - acc: 0.9871\n",
      "Epoch 33/100\n",
      "50000/50000 [==============================] - 209s 4ms/step - loss: 0.0439 - acc: 0.9853\n",
      "Epoch 34/100\n",
      "50000/50000 [==============================] - 210s 4ms/step - loss: 0.0322 - acc: 0.9895\n",
      "Epoch 35/100\n",
      "50000/50000 [==============================] - 207s 4ms/step - loss: 0.0273 - acc: 0.9906\n",
      "Epoch 36/100\n",
      "50000/50000 [==============================] - 212s 4ms/step - loss: 0.0328 - acc: 0.9899\n",
      "Epoch 37/100\n",
      "50000/50000 [==============================] - 216s 4ms/step - loss: 0.0387 - acc: 0.9875\n",
      "Epoch 38/100\n",
      "50000/50000 [==============================] - 210s 4ms/step - loss: 0.0284 - acc: 0.9906\n",
      "Epoch 39/100\n",
      "50000/50000 [==============================] - 211s 4ms/step - loss: 0.0229 - acc: 0.9923\n",
      "Epoch 40/100\n",
      "50000/50000 [==============================] - 211s 4ms/step - loss: 0.0384 - acc: 0.9877\n",
      "Epoch 41/100\n",
      "50000/50000 [==============================] - 191s 4ms/step - loss: 0.0390 - acc: 0.9877\n",
      "Epoch 42/100\n",
      "50000/50000 [==============================] - 212s 4ms/step - loss: 0.0312 - acc: 0.9894\n",
      "Epoch 43/100\n",
      "50000/50000 [==============================] - 210s 4ms/step - loss: 0.0249 - acc: 0.9918\n",
      "Epoch 44/100\n",
      "50000/50000 [==============================] - 193s 4ms/step - loss: 0.0299 - acc: 0.9903\n",
      "Epoch 45/100\n",
      "50000/50000 [==============================] - 177s 4ms/step - loss: 0.0269 - acc: 0.9914\n",
      "Epoch 46/100\n",
      "50000/50000 [==============================] - 174s 3ms/step - loss: 0.0306 - acc: 0.9902\n",
      "Epoch 47/100\n",
      "50000/50000 [==============================] - 186s 4ms/step - loss: 0.0242 - acc: 0.9921\n",
      "Epoch 48/100\n",
      "50000/50000 [==============================] - 190s 4ms/step - loss: 0.0181 - acc: 0.9940\n",
      "Epoch 49/100\n",
      "50000/50000 [==============================] - 179s 4ms/step - loss: 0.0261 - acc: 0.9921\n",
      "Epoch 50/100\n",
      "50000/50000 [==============================] - 176s 4ms/step - loss: 0.0346 - acc: 0.9884\n",
      "Epoch 51/100\n",
      "50000/50000 [==============================] - 173s 3ms/step - loss: 0.0273 - acc: 0.9911\n",
      "Epoch 52/100\n",
      "50000/50000 [==============================] - 179s 4ms/step - loss: 0.0265 - acc: 0.9918\n",
      "Epoch 53/100\n",
      "50000/50000 [==============================] - 210s 4ms/step - loss: 0.0246 - acc: 0.9922\n",
      "Epoch 54/100\n",
      "50000/50000 [==============================] - 179s 4ms/step - loss: 0.0190 - acc: 0.9938\n",
      "Epoch 55/100\n",
      "50000/50000 [==============================] - 181s 4ms/step - loss: 0.0220 - acc: 0.9927\n",
      "Epoch 56/100\n",
      "50000/50000 [==============================] - 166s 3ms/step - loss: 0.0252 - acc: 0.9926\n",
      "Epoch 57/100\n",
      "  100/50000 [..............................] - ETA: 2:44 - loss: 0.0366 - acc: 0.9800"
     ]
    },
    {
     "name": "stderr",
     "output_type": "stream",
     "text": [
      "C:\\Users\\a2688\\Anaconda3\\lib\\site-packages\\keras\\callbacks.py:122: UserWarning: Method on_batch_end() is slow compared to the batch update (1.973663). Check your callbacks.\n",
      "  % delta_t_median)\n"
     ]
    },
    {
     "name": "stdout",
     "output_type": "stream",
     "text": [
      "\b\b\b\b\b\b\b\b\b\b\b\b\b\b\b\b\b\b\b\b\b\b\b\b\b\b\b\b\b\b\b\b\b\b\b\b\b\b\b\b\b\b\b\b\b\b\b\b\b\b\b\b\b\b\b\b\b\b\b\b\b\b\b\b\b\b\b\b\b\b\b\b\b\b\b\b\b\b\b\b\b\b\b\b\b\r",
      "  200/50000 [..............................] - ETA: 24:39 - loss: 0.0669 - acc: 0.9850"
     ]
    },
    {
     "name": "stderr",
     "output_type": "stream",
     "text": [
      "C:\\Users\\a2688\\Anaconda3\\lib\\site-packages\\keras\\callbacks.py:122: UserWarning: Method on_batch_end() is slow compared to the batch update (0.987831). Check your callbacks.\n",
      "  % delta_t_median)\n"
     ]
    },
    {
     "name": "stdout",
     "output_type": "stream",
     "text": [
      "50000/50000 [==============================] - 170s 3ms/step - loss: 0.0227 - acc: 0.9931\n",
      "Epoch 58/100\n",
      "50000/50000 [==============================] - 161s 3ms/step - loss: 0.0164 - acc: 0.9949\n",
      "Epoch 59/100\n",
      "50000/50000 [==============================] - 160s 3ms/step - loss: 0.0285 - acc: 0.9911\n",
      "Epoch 60/100\n",
      "50000/50000 [==============================] - 162s 3ms/step - loss: 0.0247 - acc: 0.9918\n",
      "Epoch 61/100\n",
      "50000/50000 [==============================] - 161s 3ms/step - loss: 0.0211 - acc: 0.9933\n",
      "Epoch 62/100\n",
      "50000/50000 [==============================] - 162s 3ms/step - loss: 0.0178 - acc: 0.9941\n",
      "Epoch 63/100\n",
      "50000/50000 [==============================] - 164s 3ms/step - loss: 0.0189 - acc: 0.9938\n",
      "Epoch 64/100\n",
      "50000/50000 [==============================] - 161s 3ms/step - loss: 0.0163 - acc: 0.9942\n",
      "Epoch 65/100\n",
      "50000/50000 [==============================] - 162s 3ms/step - loss: 0.0138 - acc: 0.9953\n",
      "Epoch 66/100\n",
      "50000/50000 [==============================] - 165s 3ms/step - loss: 0.0128 - acc: 0.9955\n",
      "Epoch 67/100\n",
      "50000/50000 [==============================] - 165s 3ms/step - loss: 0.0235 - acc: 0.9931\n",
      "Epoch 68/100\n",
      "50000/50000 [==============================] - 162s 3ms/step - loss: 0.0307 - acc: 0.9913\n",
      "Epoch 69/100\n",
      "50000/50000 [==============================] - 162s 3ms/step - loss: 0.0226 - acc: 0.9932\n",
      "Epoch 70/100\n",
      "50000/50000 [==============================] - 164s 3ms/step - loss: 0.0185 - acc: 0.9942\n",
      "Epoch 71/100\n",
      "49300/50000 [============================>.] - ETA: 2s - loss: 0.0181 - acc: 0.9942"
     ]
    }
   ],
   "source": [
    "\n",
    "classifier=Sequential()\n",
    "\n",
    "#卷積組合\n",
    "classifier.add(Convolution2D(input_shape=(32,32,3),kernel_size=(3,3),filters=32,activation='relu',padding='same'))#32,3,3,input_shape=(32,32,3),activation='relu''\n",
    "classifier.add(BatchNormalization())\n",
    "\n",
    "'''自己決定MaxPooling2D放在哪裡'''\n",
    "#classifier.add(MaxPooling2D(pool_size=(2,2)))\n",
    "\n",
    "#卷積組合\n",
    "classifier.add(Convolution2D(kernel_size=(3,3),filters=32,activation='relu',padding='same'))\n",
    "classifier.add(BatchNormalization())\n",
    "classifier.add(MaxPooling2D(pool_size=(2,2)))\n",
    "\n",
    "#flatten\n",
    "classifier.add(Flatten())\n",
    "\n",
    "#FC\n",
    "classifier.add(Dense(output_dim=100,activation='relu')) #output_dim=100,activation=relu\n",
    "\n",
    "#輸出\n",
    "classifier.add(Dense(output_dim=10,activation='softmax'))\n",
    "\n",
    "#超過兩個就要選categorical_crossentrophy\n",
    "classifier.compile(optimizer = 'adam', loss = 'categorical_crossentropy', metrics = ['accuracy'])\n",
    "classifier.fit(x_train,y_train,batch_size=100,epochs=100)"
   ]
  },
  {
   "cell_type": "markdown",
   "metadata": {},
   "source": [
    "## 預測新圖片，輸入影像前處理要與訓練時相同\n",
    "#### ((X-mean)/(std+1e-7) ):這裡的mean跟std是訓練集的\n",
    "## 維度如下方示範"
   ]
  },
  {
   "cell_type": "code",
   "execution_count": null,
   "metadata": {},
   "outputs": [],
   "source": [
    "input_example=(np.zeros(shape=(1,32,32,3))-mean_train)/(std_train+1e-7) \n",
    "classifier.predict(input_example)\n",
    "_pred=classifier.predict(input_example)"
   ]
  },
  {
   "cell_type": "code",
   "execution_count": null,
   "metadata": {},
   "outputs": [],
   "source": [
    "classifier.evaluate(x_test,y_test)"
   ]
  }
 ],
 "metadata": {
  "kernelspec": {
   "display_name": "Python 3",
   "language": "python",
   "name": "python3"
  },
  "language_info": {
   "codemirror_mode": {
    "name": "ipython",
    "version": 3
   },
   "file_extension": ".py",
   "mimetype": "text/x-python",
   "name": "python",
   "nbconvert_exporter": "python",
   "pygments_lexer": "ipython3",
   "version": "3.7.3"
  }
 },
 "nbformat": 4,
 "nbformat_minor": 2
}
