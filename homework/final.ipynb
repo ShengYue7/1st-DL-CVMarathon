{
 "cells": [
  {
   "cell_type": "code",
   "execution_count": 1,
   "metadata": {
    "colab": {
     "base_uri": "https://localhost:8080/",
     "height": 141
    },
    "colab_type": "code",
    "executionInfo": {
     "elapsed": 24903,
     "status": "ok",
     "timestamp": 1583721084619,
     "user": {
      "displayName": "涂靖晨@go.thu",
      "photoUrl": "",
      "userId": "07745779485111167851"
     },
     "user_tz": -480
    },
    "id": "gvklgY4xUVY5",
    "outputId": "cb40f52c-4ce6-4611-c850-9fd8e52dac1d"
   },
   "outputs": [
    {
     "name": "stdout",
     "output_type": "stream",
     "text": [
      "Go to this URL in a browser: https://accounts.google.com/o/oauth2/auth?client_id=947318989803-6bn6qk8qdgf4n4g3pfee6491hc0brc4i.apps.googleusercontent.com&redirect_uri=urn%3aietf%3awg%3aoauth%3a2.0%3aoob&response_type=code&scope=email%20https%3a%2f%2fwww.googleapis.com%2fauth%2fdocs.test%20https%3a%2f%2fwww.googleapis.com%2fauth%2fdrive%20https%3a%2f%2fwww.googleapis.com%2fauth%2fdrive.photos.readonly%20https%3a%2f%2fwww.googleapis.com%2fauth%2fpeopleapi.readonly\n",
      "\n",
      "Enter your authorization code:\n",
      "··········\n",
      "Mounted at /content/gdrive\n",
      "/content/gdrive/My Drive/day49-50/data\n"
     ]
    }
   ],
   "source": [
    "from google.colab import drive \n",
    "drive.mount('/content/gdrive') # 將 google drive 掛載在 colob，\n",
    "# 下載基於 keras 的 yolov3 程式碼\n",
    "%cd 'gdrive/My Drive/day49-50/data'\n",
    "#!git clone https://github.com/qqwweee/keras-yolo3 # 如果之前已經下載過就可以註解掉\n",
    "#%cd keras-yolo3"
   ]
  },
  {
   "cell_type": "code",
   "execution_count": 4,
   "metadata": {
    "colab": {
     "base_uri": "https://localhost:8080/",
     "height": 35
    },
    "colab_type": "code",
    "executionInfo": {
     "elapsed": 1252,
     "status": "ok",
     "timestamp": 1583721140270,
     "user": {
      "displayName": "涂靖晨@go.thu",
      "photoUrl": "",
      "userId": "07745779485111167851"
     },
     "user_tz": -480
    },
    "id": "zXoni6ulUb4Y",
    "outputId": "fe02c31a-ebe0-435d-926e-2205369ad298"
   },
   "outputs": [
    {
     "name": "stdout",
     "output_type": "stream",
     "text": [
      "Pretrained weights exists\n"
     ]
    }
   ],
   "source": [
    "import os\n",
    "if not os.path.exists(\"model_data/yolo_weights.h5\"):\n",
    "    # 下載 yolov3 的網路權重(.weights)，並且把權重轉換為 keras 能夠讀取的格式(.h5)\n",
    "    print(\"Converting pretrained YOLOv3 weights for training\")\n",
    "    #把 YOLO weights 轉換為能夠提供給 keras 作為訓練新模型的初始權重,注意argument 要使用 -w \n",
    "    os.system(\"python convert.py -w yolov3.cfg yolov3.weights model_data/yolo_weights.h5\") \n",
    "else:\n",
    "    print(\"Pretrained weights exists\")"
   ]
  },
  {
   "cell_type": "code",
   "execution_count": 5,
   "metadata": {
    "colab": {
     "base_uri": "https://localhost:8080/",
     "height": 35
    },
    "colab_type": "code",
    "executionInfo": {
     "elapsed": 1042,
     "status": "ok",
     "timestamp": 1583721142311,
     "user": {
      "displayName": "涂靖晨@go.thu",
      "photoUrl": "",
      "userId": "07745779485111167851"
     },
     "user_tz": -480
    },
    "id": "aURbK37CVVEt",
    "outputId": "2eca2299-3f6a-4d2f-e7ba-8552124ac202"
   },
   "outputs": [
    {
     "name": "stdout",
     "output_type": "stream",
     "text": [
      "animal.txt exist\n"
     ]
    }
   ],
   "source": [
    "# 將資料集格式轉為yolo3吃的格式\n",
    "if not os.path.exists(\"animal.txt\"):\n",
    "    all_labels = open('all_labels.csv', 'r')\n",
    "    line = all_labels.readline()\n",
    "    print(line[:-1].split(','))\n",
    "\n",
    "    list_file = open('animal.txt', 'w')\n",
    "    file_name = ''\n",
    "    file_animal = ''\n",
    "\n",
    "    while line:\n",
    "        line = all_labels.readline()\n",
    "        if line == '':\n",
    "            break\n",
    "        line_messages = line[:-1].split(',')\n",
    "        print(line_messages)\n",
    "        if file_name == line_messages[0]:\n",
    "            list_file.write(' ' + line_messages[4] + ',' + line_messages[5] + ',' + line_messages[6] + ',' + line_messages[7] + ',' + file_animal)\n",
    "        else:\n",
    "            if file_name != '':\n",
    "                list_file.write('\\n')\n",
    "            file_name = line_messages[0]\n",
    "            if line_messages[3] == 'kangaroo':\n",
    "                file_animal = '0'\n",
    "                list_file.write('data/all_images/' + file_name + ' ' + line_messages[4] + ',' + line_messages[5] + ',' + line_messages[6] + ',' + line_messages[7] + ',0')\n",
    "            else:\n",
    "                file_animal = '1'\n",
    "                list_file.write('data/all_images/' + file_name + ' ' + line_messages[4] + ',' + line_messages[5] + ',' + line_messages[6] + ',' + line_messages[7] + ',1')\n",
    "    list_file.close()\n",
    "else:\n",
    "    print(\"animal.txt exist\")"
   ]
  },
  {
   "cell_type": "code",
   "execution_count": 6,
   "metadata": {
    "colab": {
     "base_uri": "https://localhost:8080/",
     "height": 517
    },
    "colab_type": "code",
    "executionInfo": {
     "elapsed": 4756,
     "status": "ok",
     "timestamp": 1583721148189,
     "user": {
      "displayName": "涂靖晨@go.thu",
      "photoUrl": "",
      "userId": "07745779485111167851"
     },
     "user_tz": -480
    },
    "id": "2XwXAGiaZmYG",
    "outputId": "d09b84cf-fe6b-4e55-9a9d-a5d883f59dd2"
   },
   "outputs": [
    {
     "name": "stderr",
     "output_type": "stream",
     "text": [
      "Using TensorFlow backend.\n",
      "/usr/local/lib/python3.6/dist-packages/tensorflow/python/framework/dtypes.py:516: FutureWarning: Passing (type, 1) or '1type' as a synonym of type is deprecated; in a future version of numpy, it will be understood as (type, (1,)) / '(1,)type'.\n",
      "  _np_qint8 = np.dtype([(\"qint8\", np.int8, 1)])\n",
      "/usr/local/lib/python3.6/dist-packages/tensorflow/python/framework/dtypes.py:517: FutureWarning: Passing (type, 1) or '1type' as a synonym of type is deprecated; in a future version of numpy, it will be understood as (type, (1,)) / '(1,)type'.\n",
      "  _np_quint8 = np.dtype([(\"quint8\", np.uint8, 1)])\n",
      "/usr/local/lib/python3.6/dist-packages/tensorflow/python/framework/dtypes.py:518: FutureWarning: Passing (type, 1) or '1type' as a synonym of type is deprecated; in a future version of numpy, it will be understood as (type, (1,)) / '(1,)type'.\n",
      "  _np_qint16 = np.dtype([(\"qint16\", np.int16, 1)])\n",
      "/usr/local/lib/python3.6/dist-packages/tensorflow/python/framework/dtypes.py:519: FutureWarning: Passing (type, 1) or '1type' as a synonym of type is deprecated; in a future version of numpy, it will be understood as (type, (1,)) / '(1,)type'.\n",
      "  _np_quint16 = np.dtype([(\"quint16\", np.uint16, 1)])\n",
      "/usr/local/lib/python3.6/dist-packages/tensorflow/python/framework/dtypes.py:520: FutureWarning: Passing (type, 1) or '1type' as a synonym of type is deprecated; in a future version of numpy, it will be understood as (type, (1,)) / '(1,)type'.\n",
      "  _np_qint32 = np.dtype([(\"qint32\", np.int32, 1)])\n",
      "/usr/local/lib/python3.6/dist-packages/tensorflow/python/framework/dtypes.py:525: FutureWarning: Passing (type, 1) or '1type' as a synonym of type is deprecated; in a future version of numpy, it will be understood as (type, (1,)) / '(1,)type'.\n",
      "  np_resource = np.dtype([(\"resource\", np.ubyte, 1)])\n",
      "/usr/local/lib/python3.6/dist-packages/tensorboard/compat/tensorflow_stub/dtypes.py:541: FutureWarning: Passing (type, 1) or '1type' as a synonym of type is deprecated; in a future version of numpy, it will be understood as (type, (1,)) / '(1,)type'.\n",
      "  _np_qint8 = np.dtype([(\"qint8\", np.int8, 1)])\n",
      "/usr/local/lib/python3.6/dist-packages/tensorboard/compat/tensorflow_stub/dtypes.py:542: FutureWarning: Passing (type, 1) or '1type' as a synonym of type is deprecated; in a future version of numpy, it will be understood as (type, (1,)) / '(1,)type'.\n",
      "  _np_quint8 = np.dtype([(\"quint8\", np.uint8, 1)])\n",
      "/usr/local/lib/python3.6/dist-packages/tensorboard/compat/tensorflow_stub/dtypes.py:543: FutureWarning: Passing (type, 1) or '1type' as a synonym of type is deprecated; in a future version of numpy, it will be understood as (type, (1,)) / '(1,)type'.\n",
      "  _np_qint16 = np.dtype([(\"qint16\", np.int16, 1)])\n",
      "/usr/local/lib/python3.6/dist-packages/tensorboard/compat/tensorflow_stub/dtypes.py:544: FutureWarning: Passing (type, 1) or '1type' as a synonym of type is deprecated; in a future version of numpy, it will be understood as (type, (1,)) / '(1,)type'.\n",
      "  _np_quint16 = np.dtype([(\"quint16\", np.uint16, 1)])\n",
      "/usr/local/lib/python3.6/dist-packages/tensorboard/compat/tensorflow_stub/dtypes.py:545: FutureWarning: Passing (type, 1) or '1type' as a synonym of type is deprecated; in a future version of numpy, it will be understood as (type, (1,)) / '(1,)type'.\n",
      "  _np_qint32 = np.dtype([(\"qint32\", np.int32, 1)])\n",
      "/usr/local/lib/python3.6/dist-packages/tensorboard/compat/tensorflow_stub/dtypes.py:550: FutureWarning: Passing (type, 1) or '1type' as a synonym of type is deprecated; in a future version of numpy, it will be understood as (type, (1,)) / '(1,)type'.\n",
      "  np_resource = np.dtype([(\"resource\", np.ubyte, 1)])\n"
     ]
    },
    {
     "data": {
      "text/html": [
       "<p style=\"color: red;\">\n",
       "The default version of TensorFlow in Colab will soon switch to TensorFlow 2.x.<br>\n",
       "We recommend you <a href=\"https://www.tensorflow.org/guide/migrate\" target=\"_blank\">upgrade</a> now \n",
       "or ensure your notebook will continue to use TensorFlow 1.x via the <code>%tensorflow_version 1.x</code> magic:\n",
       "<a href=\"https://colab.research.google.com/notebooks/tensorflow_version.ipynb\" target=\"_blank\">more info</a>.</p>\n"
      ],
      "text/plain": [
       "<IPython.core.display.HTML object>"
      ]
     },
     "metadata": {
      "tags": []
     },
     "output_type": "display_data"
    }
   ],
   "source": [
    "# 將 train.py 所需要的套件載入\n",
    "# 一定要記得設定GPU要使用哪一個空閒的GPU，以免與其他人搶資源\n",
    "import numpy as np\n",
    "import keras.backend as K\n",
    "from keras.layers import Input, Lambda\n",
    "from keras.models import Model\n",
    "from keras.optimizers import Adam\n",
    "from keras.callbacks import TensorBoard, ModelCheckpoint, ReduceLROnPlateau, EarlyStopping\n",
    "os.environ[\"CUDA_VISIBLE_DEVICES\"]=\"2\"\n",
    "\n",
    "from yolo3.model import preprocess_true_boxes, yolo_body, tiny_yolo_body, yolo_loss\n",
    "from yolo3.utils import get_random_data\n",
    "\n",
    "# 加入此設定，避免訓練大尺寸圖片時可能發生異常\n",
    "from PIL import ImageFile\n",
    "ImageFile.LOAD_TRUNCATED_IMAGES = True"
   ]
  },
  {
   "cell_type": "code",
   "execution_count": 7,
   "metadata": {
    "colab": {
     "base_uri": "https://localhost:8080/",
     "height": 69
    },
    "colab_type": "code",
    "executionInfo": {
     "elapsed": 625,
     "status": "ok",
     "timestamp": 1583721148192,
     "user": {
      "displayName": "涂靖晨@go.thu",
      "photoUrl": "",
      "userId": "07745779485111167851"
     },
     "user_tz": -480
    },
    "id": "hlqRkVM7mjOI",
    "outputId": "f3555337-eacc-4fab-97d2-fc29746159e8"
   },
   "outputs": [
    {
     "name": "stdout",
     "output_type": "stream",
     "text": [
      "tensorflow version: 1.14.0\n",
      "python version: 3.6.9 (default, Nov  7 2019, 10:44:02) \n",
      "[GCC 8.3.0]\n"
     ]
    }
   ],
   "source": [
    "\n",
    "#我的環境\n",
    "import tensorflow as tf\n",
    "import sys\n",
    "print('tensorflow version:', tf.__version__)\n",
    "print('python version:', sys.version)"
   ]
  },
  {
   "cell_type": "code",
   "execution_count": 0,
   "metadata": {
    "colab": {},
    "colab_type": "code",
    "id": "98fUISM-fu2s"
   },
   "outputs": [],
   "source": [
    "from train import get_classes, get_anchors, create_model, create_tiny_model, data_generator, data_generator_wrapper"
   ]
  },
  {
   "cell_type": "code",
   "execution_count": 0,
   "metadata": {
    "colab": {},
    "colab_type": "code",
    "id": "I2uQBPzqghTK"
   },
   "outputs": [],
   "source": [
    "import keras"
   ]
  },
  {
   "cell_type": "code",
   "execution_count": 0,
   "metadata": {
    "colab": {
     "base_uri": "https://localhost:8080/",
     "height": 1000
    },
    "colab_type": "code",
    "executionInfo": {
     "elapsed": 27501,
     "status": "error",
     "timestamp": 1583720958587,
     "user": {
      "displayName": "涂靖晨@go.thu",
      "photoUrl": "",
      "userId": "07745779485111167851"
     },
     "user_tz": -480
    },
    "id": "D_6AfxbmfyYz",
    "outputId": "39e8cc5a-57e4-45f0-a05f-a576ace8cba7"
   },
   "outputs": [
    {
     "name": "stdout",
     "output_type": "stream",
     "text": [
      "WARNING:tensorflow:From /usr/local/lib/python3.6/dist-packages/keras/backend/tensorflow_backend.py:88: The name tf.reset_default_graph is deprecated. Please use tf.compat.v1.reset_default_graph instead.\n",
      "\n",
      "WARNING:tensorflow:From /usr/local/lib/python3.6/dist-packages/keras/backend/tensorflow_backend.py:91: The name tf.placeholder_with_default is deprecated. Please use tf.compat.v1.placeholder_with_default instead.\n",
      "\n",
      "WARNING:tensorflow:From /usr/local/lib/python3.6/dist-packages/keras/backend/tensorflow_backend.py:95: The name tf.get_default_graph is deprecated. Please use tf.compat.v1.get_default_graph instead.\n",
      "\n",
      "WARNING:tensorflow:From /usr/local/lib/python3.6/dist-packages/keras/backend/tensorflow_backend.py:507: The name tf.placeholder is deprecated. Please use tf.compat.v1.placeholder instead.\n",
      "\n",
      "WARNING:tensorflow:From /usr/local/lib/python3.6/dist-packages/keras/backend/tensorflow_backend.py:3831: The name tf.random_uniform is deprecated. Please use tf.random.uniform instead.\n",
      "\n",
      "WARNING:tensorflow:From /usr/local/lib/python3.6/dist-packages/keras/backend/tensorflow_backend.py:1797: The name tf.nn.fused_batch_norm is deprecated. Please use tf.compat.v1.nn.fused_batch_norm instead.\n",
      "\n",
      "WARNING:tensorflow:From /usr/local/lib/python3.6/dist-packages/keras/backend/tensorflow_backend.py:1940: The name tf.image.resize_nearest_neighbor is deprecated. Please use tf.compat.v1.image.resize_nearest_neighbor instead.\n",
      "\n",
      "Create YOLOv3 model with 9 anchors and 2 classes.\n"
     ]
    },
    {
     "name": "stderr",
     "output_type": "stream",
     "text": [
      "/usr/local/lib/python3.6/dist-packages/keras/engine/topology.py:3462: UserWarning: Skipping loading of weights for layer conv2d_59 due to mismatch in shape ((1, 1, 1024, 21) vs (255, 1024, 1, 1)).\n",
      "  weight_values[i].shape))\n",
      "/usr/local/lib/python3.6/dist-packages/keras/engine/topology.py:3462: UserWarning: Skipping loading of weights for layer conv2d_59 due to mismatch in shape ((21,) vs (255,)).\n",
      "  weight_values[i].shape))\n",
      "/usr/local/lib/python3.6/dist-packages/keras/engine/topology.py:3462: UserWarning: Skipping loading of weights for layer conv2d_67 due to mismatch in shape ((1, 1, 512, 21) vs (255, 512, 1, 1)).\n",
      "  weight_values[i].shape))\n",
      "/usr/local/lib/python3.6/dist-packages/keras/engine/topology.py:3462: UserWarning: Skipping loading of weights for layer conv2d_67 due to mismatch in shape ((21,) vs (255,)).\n",
      "  weight_values[i].shape))\n",
      "/usr/local/lib/python3.6/dist-packages/keras/engine/topology.py:3462: UserWarning: Skipping loading of weights for layer conv2d_75 due to mismatch in shape ((1, 1, 256, 21) vs (255, 256, 1, 1)).\n",
      "  weight_values[i].shape))\n",
      "/usr/local/lib/python3.6/dist-packages/keras/engine/topology.py:3462: UserWarning: Skipping loading of weights for layer conv2d_75 due to mismatch in shape ((21,) vs (255,)).\n",
      "  weight_values[i].shape))\n"
     ]
    },
    {
     "name": "stdout",
     "output_type": "stream",
     "text": [
      "Load weights model_data/yolo_weights.h5.\n",
      "Freeze the first 249 layers of total 252 layers.\n",
      "WARNING:tensorflow:From /usr/local/lib/python3.6/dist-packages/keras/backend/tensorflow_backend.py:2836: add_dispatch_support.<locals>.wrapper (from tensorflow.python.ops.array_ops) is deprecated and will be removed in a future version.\n",
      "Instructions for updating:\n",
      "Use tf.where in 2.0, which has the same broadcast rule as np.where\n",
      "WARNING:tensorflow:From /usr/local/lib/python3.6/dist-packages/keras/optimizers.py:757: The name tf.train.Optimizer is deprecated. Please use tf.compat.v1.train.Optimizer instead.\n",
      "\n",
      "Train on 328 samples, val on 36 samples, with batch size 16.\n",
      "Epoch 1/100\n",
      "20/20 [==============================] - 608s 30s/step - loss: 2544.5399 - val_loss: 587.2835\n",
      "Epoch 2/100\n",
      "20/20 [==============================] - 579s 29s/step - loss: 362.8312 - val_loss: 203.1596\n",
      "Epoch 3/100\n",
      "20/20 [==============================] - 566s 28s/step - loss: 169.3303 - val_loss: 133.2392\n",
      "Epoch 4/100\n",
      "20/20 [==============================] - 569s 28s/step - loss: 123.4083 - val_loss: 104.5200\n",
      "Epoch 5/100\n",
      "20/20 [==============================] - 584s 29s/step - loss: 101.2388 - val_loss: 80.0474\n",
      "Epoch 6/100\n",
      "20/20 [==============================] - 580s 29s/step - loss: 86.0750 - val_loss: 77.9472\n",
      "Epoch 7/100\n",
      "20/20 [==============================] - 566s 28s/step - loss: 73.7352 - val_loss: 69.5479\n",
      "Epoch 8/100\n",
      "20/20 [==============================] - 571s 29s/step - loss: 65.9645 - val_loss: 57.4462\n",
      "Epoch 9/100\n",
      "20/20 [==============================] - 577s 29s/step - loss: 58.9343 - val_loss: 54.9364\n",
      "Epoch 10/100\n",
      "20/20 [==============================] - 559s 28s/step - loss: 53.6988 - val_loss: 46.6188\n",
      "Epoch 11/100\n",
      "20/20 [==============================] - 588s 29s/step - loss: 50.6491 - val_loss: 43.2706\n",
      "Epoch 12/100\n",
      "20/20 [==============================] - 581s 29s/step - loss: 46.1756 - val_loss: 42.6894\n",
      "Epoch 13/100\n",
      "20/20 [==============================] - 576s 29s/step - loss: 43.0097 - val_loss: 39.7075\n",
      "Epoch 14/100\n",
      "20/20 [==============================] - 581s 29s/step - loss: 41.6034 - val_loss: 39.7029\n",
      "Epoch 15/100\n",
      "20/20 [==============================] - 598s 30s/step - loss: 39.2536 - val_loss: 35.4444\n",
      "Epoch 16/100\n",
      "20/20 [==============================] - 584s 29s/step - loss: 36.3039 - val_loss: 33.6647\n",
      "Epoch 17/100\n",
      "20/20 [==============================] - 594s 30s/step - loss: 35.8799 - val_loss: 29.7989\n",
      "Epoch 18/100\n",
      "20/20 [==============================] - 598s 30s/step - loss: 34.1262 - val_loss: 30.2929\n",
      "Epoch 19/100\n",
      "20/20 [==============================] - 585s 29s/step - loss: 32.8796 - val_loss: 29.2781\n",
      "Epoch 20/100\n",
      "20/20 [==============================] - 582s 29s/step - loss: 31.5612 - val_loss: 28.7690\n",
      "Epoch 21/100\n",
      "20/20 [==============================] - 584s 29s/step - loss: 30.1165 - val_loss: 28.7957\n",
      "Epoch 22/100\n",
      "20/20 [==============================] - 579s 29s/step - loss: 30.0703 - val_loss: 27.7515\n",
      "Epoch 23/100\n",
      "20/20 [==============================] - 581s 29s/step - loss: 28.8780 - val_loss: 27.8820\n",
      "Epoch 24/100\n",
      "20/20 [==============================] - 581s 29s/step - loss: 27.9578 - val_loss: 26.4037\n",
      "Epoch 25/100\n",
      "20/20 [==============================] - 578s 29s/step - loss: 28.3673 - val_loss: 26.1051\n",
      "Epoch 26/100\n",
      "20/20 [==============================] - 581s 29s/step - loss: 26.7834 - val_loss: 26.2137\n",
      "Epoch 27/100\n",
      "20/20 [==============================] - 588s 29s/step - loss: 26.4606 - val_loss: 23.8233\n",
      "Epoch 28/100\n",
      "20/20 [==============================] - 596s 30s/step - loss: 26.0387 - val_loss: 24.3981\n",
      "Epoch 29/100\n",
      "20/20 [==============================] - 581s 29s/step - loss: 26.3165 - val_loss: 24.8799\n",
      "Epoch 30/100\n",
      "20/20 [==============================] - 590s 30s/step - loss: 25.2859 - val_loss: 23.0871\n",
      "Epoch 31/100\n",
      "20/20 [==============================] - 582s 29s/step - loss: 24.9604 - val_loss: 24.6086\n",
      "Epoch 32/100\n",
      "20/20 [==============================] - 583s 29s/step - loss: 25.1322 - val_loss: 22.5513\n",
      "Epoch 33/100\n",
      "20/20 [==============================] - 580s 29s/step - loss: 24.5643 - val_loss: 21.3619\n",
      "Epoch 34/100\n",
      "20/20 [==============================] - 579s 29s/step - loss: 23.4887 - val_loss: 22.4020\n",
      "Epoch 35/100\n",
      "20/20 [==============================] - 581s 29s/step - loss: 23.5041 - val_loss: 23.4028\n",
      "Epoch 36/100\n",
      "20/20 [==============================] - 577s 29s/step - loss: 23.8322 - val_loss: 21.7209\n",
      "Epoch 37/100\n",
      "20/20 [==============================] - 596s 30s/step - loss: 23.4353 - val_loss: 21.6460\n",
      "Epoch 38/100\n",
      "20/20 [==============================] - 596s 30s/step - loss: 22.8335 - val_loss: 21.4427\n",
      "Epoch 39/100\n",
      "20/20 [==============================] - 588s 29s/step - loss: 22.4358 - val_loss: 22.7010\n",
      "Epoch 40/100\n",
      "20/20 [==============================] - 583s 29s/step - loss: 22.6412 - val_loss: 21.5884\n",
      "Epoch 41/100\n",
      "20/20 [==============================] - 582s 29s/step - loss: 21.8415 - val_loss: 20.3056\n",
      "Epoch 42/100\n",
      "20/20 [==============================] - 583s 29s/step - loss: 22.0214 - val_loss: 19.8313\n",
      "Epoch 43/100\n",
      "20/20 [==============================] - 582s 29s/step - loss: 21.5723 - val_loss: 20.2832\n",
      "Epoch 44/100\n",
      "20/20 [==============================] - 588s 29s/step - loss: 21.7090 - val_loss: 21.0495\n",
      "Epoch 45/100\n",
      "20/20 [==============================] - 590s 29s/step - loss: 21.6894 - val_loss: 21.1188\n",
      "Epoch 46/100\n",
      "20/20 [==============================] - 594s 30s/step - loss: 21.0336 - val_loss: 21.5904\n",
      "Epoch 47/100\n",
      "20/20 [==============================] - 581s 29s/step - loss: 21.3896 - val_loss: 19.8131\n",
      "Epoch 48/100\n",
      "20/20 [==============================] - 578s 29s/step - loss: 20.9740 - val_loss: 19.7467\n",
      "Epoch 49/100\n",
      "20/20 [==============================] - 583s 29s/step - loss: 20.6090 - val_loss: 20.1797\n",
      "Epoch 50/100\n",
      "20/20 [==============================] - 583s 29s/step - loss: 20.9308 - val_loss: 20.2350\n",
      "Epoch 51/100\n",
      "20/20 [==============================] - 587s 29s/step - loss: 20.5100 - val_loss: 21.1196\n",
      "Epoch 52/100\n",
      "20/20 [==============================] - 582s 29s/step - loss: 20.8059 - val_loss: 19.3576\n",
      "Epoch 53/100\n",
      "20/20 [==============================] - 582s 29s/step - loss: 20.1742 - val_loss: 18.9051\n",
      "Epoch 54/100\n",
      "20/20 [==============================] - 577s 29s/step - loss: 20.1550 - val_loss: 20.5788\n",
      "Epoch 55/100\n",
      "20/20 [==============================] - 577s 29s/step - loss: 20.0010 - val_loss: 19.9412\n",
      "Epoch 56/100\n",
      "20/20 [==============================] - 592s 30s/step - loss: 20.2889 - val_loss: 19.5584\n",
      "Epoch 57/100\n",
      "20/20 [==============================] - 594s 30s/step - loss: 19.9024 - val_loss: 20.5010\n",
      "Epoch 58/100\n",
      "20/20 [==============================] - 598s 30s/step - loss: 19.2236 - val_loss: 17.8565\n",
      "Epoch 59/100\n",
      "20/20 [==============================] - 589s 29s/step - loss: 20.1625 - val_loss: 19.4780\n",
      "Epoch 60/100\n",
      "20/20 [==============================] - 591s 30s/step - loss: 19.1780 - val_loss: 17.9324\n",
      "Epoch 61/100\n",
      "20/20 [==============================] - 585s 29s/step - loss: 19.6031 - val_loss: 17.4831\n",
      "Epoch 62/100\n",
      "20/20 [==============================] - 577s 29s/step - loss: 19.5920 - val_loss: 18.7572\n",
      "Epoch 63/100\n",
      "20/20 [==============================] - 574s 29s/step - loss: 19.3508 - val_loss: 17.9215\n",
      "Epoch 64/100\n",
      "20/20 [==============================] - 568s 28s/step - loss: 19.6633 - val_loss: 17.3480\n",
      "Epoch 65/100\n",
      "20/20 [==============================] - 563s 28s/step - loss: 19.1054 - val_loss: 18.5784\n",
      "Epoch 66/100\n",
      "20/20 [==============================] - 557s 28s/step - loss: 19.8473 - val_loss: 22.6434\n",
      "Epoch 67/100\n",
      "20/20 [==============================] - 563s 28s/step - loss: 18.3392 - val_loss: 19.6421\n",
      "Epoch 68/100\n",
      "20/20 [==============================] - 577s 29s/step - loss: 18.8279 - val_loss: 19.4575\n",
      "Epoch 69/100\n",
      "20/20 [==============================] - 579s 29s/step - loss: 18.7816 - val_loss: 18.8217\n",
      "Epoch 70/100\n",
      "20/20 [==============================] - 568s 28s/step - loss: 18.9000 - val_loss: 20.1224\n",
      "Epoch 71/100\n",
      "16/20 [=======================>......] - ETA: 1:44 - loss: 18.9003"
     ]
    }
   ],
   "source": [
    "annotation_path = 'animal.txt' # 轉換好格式的標註檔案\n",
    "log_dir = 'logs/000/' # 訓練好的模型儲存的路徑\n",
    "classes_path = 'model_data/animal_classes.txt'\n",
    "anchors_path = 'model_data/yolo_anchors.txt'\n",
    "class_names = get_classes(classes_path)\n",
    "num_classes = len(class_names)\n",
    "anchors = get_anchors(anchors_path)\n",
    "\n",
    "input_shape = (416,416) # multiple of 32, hw\n",
    "\n",
    "is_tiny_version = len(anchors)==6 # default setting\n",
    "if is_tiny_version:\n",
    "    model = create_tiny_model(input_shape, anchors, num_classes,\n",
    "        freeze_body=2, weights_path='model_data/yolov3-tiny.h5')\n",
    "else:\n",
    "    model = create_model(input_shape, anchors, num_classes,\n",
    "        freeze_body=2, weights_path='model_data/yolo_weights.h5') # make sure you know what you freeze\n",
    "\n",
    "logging = TensorBoard(log_dir=log_dir)\n",
    "checkpoint = ModelCheckpoint(log_dir + 'ep{epoch:03d}-loss{loss:.3f}-val_loss{val_loss:.3f}.h5',\n",
    "    monitor='val_loss', save_weights_only=True, save_best_only=True, period=3)\n",
    "reduce_lr = ReduceLROnPlateau(monitor='val_loss', factor=0.1, patience=3, verbose=1)\n",
    "early_stopping = EarlyStopping(monitor='val_loss', min_delta=0, patience=10, verbose=1)\n",
    "\n",
    "# 分為 training 以及 validation\n",
    "val_split = 0.1\n",
    "with open(annotation_path) as f:\n",
    "    lines = f.readlines()\n",
    "np.random.seed(10101)\n",
    "np.random.shuffle(lines)\n",
    "np.random.seed(None)\n",
    "num_val = int(len(lines)*val_split)\n",
    "num_train = len(lines) - num_val\n",
    "\n",
    "# Train with frozen layers first, to get a stable loss.\n",
    "# Adjust num epochs to your dataset. This step is enough to obtain a not bad model.\n",
    "# 一開始先 freeze YOLO 除了 output layer 以外的 darknet53 backbone 來 train\n",
    "if True:\n",
    "    model.compile(optimizer=Adam(lr=1e-3), loss={\n",
    "        # use custom yolo_loss Lambda layer.\n",
    "        'yolo_loss': lambda y_true, y_pred: y_pred})\n",
    "\n",
    "    batch_size = 16\n",
    "    print('Train on {} samples, val on {} samples, with batch size {}.'.format(num_train, num_val, batch_size))\n",
    "    # 模型利用 generator 產生的資料做訓練，強烈建議大家去閱讀及理解 data_generator_wrapper 在 train.py 中的實現\n",
    "    model.fit_generator(data_generator_wrapper(lines[:num_train], batch_size, input_shape, anchors, num_classes),\n",
    "            steps_per_epoch=max(1, num_train//batch_size),\n",
    "            validation_data=data_generator_wrapper(lines[num_train:], batch_size, input_shape, anchors, num_classes),\n",
    "            validation_steps=max(1, num_val//batch_size),\n",
    "            epochs=100,\n",
    "            initial_epoch=0,\n",
    "            callbacks=[checkpoint])\n",
    "    model.save_weights(log_dir + 'trained_weights_stage_1.h5')\n",
    "\n",
    "# Unfreeze and continue training, to fine-tune.\n",
    "# Train longer if the result is not good.\n",
    "if True:\n",
    "    # 把所有 layer 都改為 trainable\n",
    "    for i in range(len(model.layers)):\n",
    "        model.layers[i].trainable = True\n",
    "    model.compile(optimizer=Adam(lr=1e-4), loss={'yolo_loss': lambda y_true, y_pred: y_pred}) # recompile to apply the change\n",
    "    print('Unfreeze all of the layers.')\n",
    "\n",
    "    batch_size = 16 # note that more GPU memory is required after unfreezing the body\n",
    "    print('Train on {} samples, val on {} samples, with batch size {}.'.format(num_train, num_val, batch_size))\n",
    "    model.fit_generator(data_generator_wrapper(lines[:num_train], batch_size, input_shape, anchors, num_classes),\n",
    "        steps_per_epoch=max(1, num_train//batch_size),\n",
    "        validation_data=data_generator_wrapper(lines[num_train:], batch_size, input_shape, anchors, num_classes),\n",
    "        validation_steps=max(1, num_val//batch_size),\n",
    "        epochs=200,\n",
    "        initial_epoch=100,\n",
    "        callbacks=[checkpoint, reduce_lr, early_stopping])\n",
    "    model.save_weights(log_dir + 'trained_weights_final.h5')"
   ]
  },
  {
   "cell_type": "code",
   "execution_count": 0,
   "metadata": {
    "colab": {
     "base_uri": "https://localhost:8080/",
     "height": 69
    },
    "colab_type": "code",
    "executionInfo": {
     "elapsed": 688,
     "status": "ok",
     "timestamp": 1583721011050,
     "user": {
      "displayName": "涂靖晨@go.thu",
      "photoUrl": "",
      "userId": "07745779485111167851"
     },
     "user_tz": -480
    },
    "id": "yG2uCDgbf29w",
    "outputId": "aad3af48-9b41-4515-c5b3-b2675fdee759"
   },
   "outputs": [
    {
     "name": "stdout",
     "output_type": "stream",
     "text": [
      "tensorflow version: 1.15.0\n",
      "python version: 3.6.9 (default, Nov  7 2019, 10:44:02) \n",
      "[GCC 8.3.0]\n"
     ]
    }
   ],
   "source": [
    "import tensorflow as tf\n",
    "import numpy as np\n",
    "import sys\n",
    "import os\n",
    "print('tensorflow version:', tf.__version__)\n",
    "print('python version:', sys.version)"
   ]
  },
  {
   "cell_type": "code",
   "execution_count": 0,
   "metadata": {
    "colab": {
     "base_uri": "https://localhost:8080/",
     "height": 35
    },
    "colab_type": "code",
    "executionInfo": {
     "elapsed": 720,
     "status": "ok",
     "timestamp": 1583721013512,
     "user": {
      "displayName": "涂靖晨@go.thu",
      "photoUrl": "",
      "userId": "07745779485111167851"
     },
     "user_tz": -480
    },
    "id": "bEff82u1zfZS",
    "outputId": "1e03acb6-9c9c-4392-c9ef-934eb76c4e73"
   },
   "outputs": [
    {
     "data": {
      "text/plain": [
       "'2.2.5'"
      ]
     },
     "execution_count": 14,
     "metadata": {
      "tags": []
     },
     "output_type": "execute_result"
    }
   ],
   "source": [
    "keras.__version__"
   ]
  }
 ],
 "metadata": {
  "colab": {
   "authorship_tag": "ABX9TyM7VVqSqoVhuZduwmSjn+bR",
   "collapsed_sections": [],
   "name": "Untitled0.ipynb",
   "provenance": []
  },
  "kernelspec": {
   "display_name": "Python 3",
   "language": "python",
   "name": "python3"
  },
  "language_info": {
   "codemirror_mode": {
    "name": "ipython",
    "version": 3
   },
   "file_extension": ".py",
   "mimetype": "text/x-python",
   "name": "python",
   "nbconvert_exporter": "python",
   "pygments_lexer": "ipython3",
   "version": "3.7.3"
  }
 },
 "nbformat": 4,
 "nbformat_minor": 1
}
